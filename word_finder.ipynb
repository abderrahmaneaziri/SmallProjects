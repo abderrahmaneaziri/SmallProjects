{
 "cells": [
  {
   "cell_type": "markdown",
   "metadata": {},
   "source": [
    "# A simple project for practice "
   ]
  },
  {
   "cell_type": "code",
   "execution_count": 6,
   "metadata": {},
   "outputs": [],
   "source": [
    "directory = r'C:\\Users\\A2847628\\Documents\\Alternance_AZIRI_Abderrahmane\\Documents_personnels\\Documents_de_cours\\2_projects_1h\\Word_finder'"
   ]
  },
  {
   "cell_type": "code",
   "execution_count": 11,
   "metadata": {},
   "outputs": [],
   "source": [
    "import os\n",
    "def getFiles(directory, extention = \".txt\"):\n",
    "    files_path = []\n",
    "    for file in os.listdir(directory):\n",
    "        if file.endswith(extention):\n",
    "            files_path.append(os.path.join(directory, file))\n",
    "    return files_path\n",
    "files_path = getFiles(directory)"
   ]
  },
  {
   "cell_type": "code",
   "execution_count": 112,
   "metadata": {},
   "outputs": [],
   "source": [
    "colors = {\n",
    "    'red' : \"\\033[91m\",\n",
    "    'green' : \"\\033[92m\",\n",
    "    'yellow' : \"\\033[93m\",\n",
    "    'base': \"\\033[0m\"\n",
    "}\n",
    "\n",
    "\n",
    "def find_word_in_files(directory ,str_to_find):\n",
    "    match = []\n",
    "    all_files = getFiles(directory)\n",
    "    for file in all_files:\n",
    "        with open(file, 'r') as f:\n",
    "            lines = f.readlines()\n",
    "            for line in lines:\n",
    "                if str_to_find in line:\n",
    "                    match.append( f\"{file}: {line}\")\n",
    "    return match\n",
    "                    "
   ]
  },
  {
   "cell_type": "code",
   "execution_count": 123,
   "metadata": {},
   "outputs": [],
   "source": [
    "lines = find_word_in_files(directory, 'what')"
   ]
  },
  {
   "cell_type": "code",
   "execution_count": 124,
   "metadata": {},
   "outputs": [
    {
     "data": {
      "text/plain": [
       "['C:\\\\Users\\\\A2847628\\\\Documents\\\\Alternance_AZIRI_Abderrahmane\\\\Documents_personnels\\\\Documents_de_cours\\\\2_projects_1h\\\\Word_finder\\\\words3.txt: euxihbqkrykltxjpqnscxhnzqdgfjamyzkjmzpxolosjgghlzfdvasqwhat\\n']"
      ]
     },
     "execution_count": 124,
     "metadata": {},
     "output_type": "execute_result"
    }
   ],
   "source": [
    "lines"
   ]
  },
  {
   "cell_type": "code",
   "execution_count": null,
   "metadata": {},
   "outputs": [],
   "source": []
  }
 ],
 "metadata": {
  "kernelspec": {
   "display_name": "Python 3",
   "language": "python",
   "name": "python3"
  },
  "language_info": {
   "codemirror_mode": {
    "name": "ipython",
    "version": 3
   },
   "file_extension": ".py",
   "mimetype": "text/x-python",
   "name": "python",
   "nbconvert_exporter": "python",
   "pygments_lexer": "ipython3",
   "version": "3.7.6"
  }
 },
 "nbformat": 4,
 "nbformat_minor": 4
}
